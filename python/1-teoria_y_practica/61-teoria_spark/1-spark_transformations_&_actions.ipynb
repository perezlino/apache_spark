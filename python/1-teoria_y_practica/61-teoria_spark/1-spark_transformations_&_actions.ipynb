{
 "cells": [
  {
   "attachments": {},
   "cell_type": "markdown",
   "metadata": {},
   "source": [
    "### ![Spark Logo Tiny](https://files.training.databricks.com/images/105/logo_spark_tiny.png) **Spark transformations & actions**"
   ]
  },
  {
   "attachments": {},
   "cell_type": "markdown",
   "metadata": {},
   "source": [
    "#### Narrow transformations\n",
    "\n",
    "<center><img src=\"https://i.postimg.cc/dQHfrjG2/s1.png\"></center>"
   ]
  },
  {
   "attachments": {},
   "cell_type": "markdown",
   "metadata": {},
   "source": [
    "#### Wide transformations\n",
    "\n",
    "<center><img src=\"https://i.postimg.cc/KjBQ6Bsz/s2.png\"></center>"
   ]
  },
  {
   "attachments": {},
   "cell_type": "markdown",
   "metadata": {},
   "source": [
    "#### Transformations & Actions\n",
    "\n",
    "<center><img src=\"https://i.postimg.cc/NGHN2vfc/s3.png\"></center>"
   ]
  }
 ],
 "metadata": {
  "language_info": {
   "name": "python"
  },
  "orig_nbformat": 4
 },
 "nbformat": 4,
 "nbformat_minor": 2
}
